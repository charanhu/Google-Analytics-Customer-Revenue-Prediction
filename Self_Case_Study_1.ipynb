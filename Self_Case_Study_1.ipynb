{
 "cells": [
  {
   "cell_type": "markdown",
   "metadata": {
    "id": "VONG4n2vEkjO"
   },
   "source": [
    "The 80/20 rule has proven true for many businesses–only a small percentage of customers produce most of the revenue. As such, marketing teams are challenged to make appropriate investments in promotional strategies.\n",
    "\n",
    "RStudio, the developer of free and open tools for R and enterprise-ready products for teams to scale and share work, has partnered with Google Cloud and Kaggle to demonstrate the business impact that thorough data analysis can have.\n",
    "\n",
    "In this competition, you’re challenged to analyze a Google Merchandise Store (also known as GStore, where Google swag is sold) customer dataset to predict revenue per customer. Hopefully, the outcome will be more actionable operational changes and a better use of marketing budgets for those companies who choose to use data analysis on top of GA data.\n",
    "\n",
    "**Root Mean Squared Error (RMSE)**\n",
    "\n",
    "Submissions are scored on the root mean squared error. RMSE is defined as:\n",
    "\n",
    "![download.png](data:image/png;base64,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)\n",
    "\n",
    "where y hat is the natural log of the predicted revenue for a customer and y is the natural log of the actual summed revenue value plus one."
   ]
  },
  {
   "cell_type": "markdown",
   "metadata": {
    "id": "a-P4I7a6rXhS"
   },
   "source": [
    "**Objective**\n",
    "\n",
    "To analyze a Google Merchandise Store (also known as GStore, where Google swag is sold) customer dataset to predict revenue per customer.\n",
    "\n",
    "**Data Set Overview**\n",
    "\n",
    "fullVisitorId- A unique identifier for each user of the Google Merchandise Store.\n",
    "\n",
    "channelGrouping - The channel via which the user came to the Store.\n",
    "\n",
    "date - The date on which the user visited the Store.\n",
    "\n",
    "device - The specifications for the device used to access the Store.\n",
    "\n",
    "geoNetwork - This section contains information about the geography of the user.\n",
    "\n",
    "sessionId - A unique identifier for this visit to the store.\n",
    "\n",
    "socialEngagementType - Engagement type, either \"Socially Engaged\" or \"Not Socially Engaged\".\n",
    "\n",
    "totals - This section contains aggregate values across the session.\n",
    "\n",
    "trafficSource - This section contains information about the Traffic Source from which the session originated.\n",
    "\n",
    "visitId - An identifier for this session. This is part of the value usually stored as the _utmb cookie. This is only unique to the user. For a completely unique ID, you should use a combination of fullVisitorId and visitId.\n",
    "\n",
    "visitNumber - The session number for this user. If this is the first session, then this is set to 1.\n",
    "\n",
    "visitStartTime - The timestamp (expressed as POSIX time)."
   ]
  },
  {
   "cell_type": "code",
   "execution_count": 2,
   "metadata": {},
   "outputs": [
    {
     "name": "stdout",
     "output_type": "stream",
     "text": [
      "Collecting plotly\n",
      "  Downloading plotly-5.3.1-py2.py3-none-any.whl (23.9 MB)\n",
      "\u001b[K     |████████████████████████████████| 23.9 MB 5.1 MB/s eta 0:00:01\n",
      "\u001b[?25hCollecting tenacity>=6.2.0\n",
      "  Downloading tenacity-8.0.1-py3-none-any.whl (24 kB)\n",
      "Requirement already satisfied: six in /home/charanahu605/anaconda3/lib/python3.8/site-packages (from plotly) (1.15.0)\n",
      "Installing collected packages: tenacity, plotly\n",
      "Successfully installed plotly-5.3.1 tenacity-8.0.1\n"
     ]
    }
   ],
   "source": [
    "!pip install plotly"
   ]
  },
  {
   "cell_type": "code",
   "execution_count": 1,
   "metadata": {
    "colab": {
     "base_uri": "https://localhost:8080/",
     "height": 17
    },
    "id": "diRa6kiriX8C",
    "outputId": "658ea6b0-cd39-4115-a76f-06561f48483a"
   },
   "outputs": [
    {
     "data": {
      "text/html": [
       "        <script type=\"text/javascript\">\n",
       "        window.PlotlyConfig = {MathJaxConfig: 'local'};\n",
       "        if (window.MathJax) {MathJax.Hub.Config({SVG: {font: \"STIX-Web\"}});}\n",
       "        if (typeof require !== 'undefined') {\n",
       "        require.undef(\"plotly\");\n",
       "        requirejs.config({\n",
       "            paths: {\n",
       "                'plotly': ['https://cdn.plot.ly/plotly-2.4.2.min']\n",
       "            }\n",
       "        });\n",
       "        require(['plotly'], function(Plotly) {\n",
       "            window._Plotly = Plotly;\n",
       "        });\n",
       "        }\n",
       "        </script>\n",
       "        "
      ]
     },
     "metadata": {},
     "output_type": "display_data"
    }
   ],
   "source": [
    "#importing the required libraries\n",
    "import os\n",
    "import json\n",
    "import numpy as np\n",
    "import pandas as pd\n",
    "import matplotlib.pyplot as plt\n",
    "import seaborn as sns\n",
    "color = sns.color_palette()\n",
    "\n",
    "%matplotlib inline\n",
    "\n",
    "from plotly import tools, subplots\n",
    "import plotly.offline as py\n",
    "py.init_notebook_mode(connected=True)\n",
    "import plotly.graph_objs as go\n",
    "\n",
    "from sklearn import model_selection, preprocessing, metrics\n",
    "import lightgbm as lgb\n",
    "\n",
    "pd.options.mode.chained_assignment = None\n",
    "pd.options.display.max_columns = 999"
   ]
  },
  {
   "cell_type": "code",
   "execution_count": 2,
   "metadata": {
    "id": "EfKxS-4yio2W"
   },
   "outputs": [],
   "source": [
    "#reference: https://www.kaggle.com/julian3833/1-quick-start-read-csv-and-flatten-json-fields/notebook\n",
    "#https://pandas.pydata.org/pandas-docs/stable/reference/api/pandas.read_csv.html\n",
    "#https://pandas.pydata.org/pandas-docs/version/1.2.0/reference/api/pandas.json_normalize.html\n",
    "#we can convert all the json fields in the file to a flattened csv format\n",
    "\n",
    "#function which converts the json data into a flatten csv\n",
    "def load_df(csv_path='input/train.csv', nrows=None):\n",
    "    '''This function returns the csv format'''\n",
    "    #json format feilds in the data set are\n",
    "    JSON_COLUMNS = ['device', 'geoNetwork', 'totals', 'trafficSource']\n",
    "\n",
    "    #storing the data frame in variable df\n",
    "    #https://pandas.pydata.org/pandas-docs/stable/reference/api/pandas.read_csv.html\n",
    "    df = pd.read_csv(csv_path,                                                   \n",
    "                     converters={column: json.loads for column in JSON_COLUMNS},  #converters: dict, optional. Dict of functions for converting values in certain columns. Keys can either be integers or column labels.\n",
    "                     dtype={'fullVisitorId': 'str'},                              #Data type for data or columns. E.g. {‘a’: np.float64, ‘b’: np.int32, ‘c’: ‘Int64’} Use str or object together with suitable na_values settings to preserve and not interpret dtype. If converters are specified, they will be applied INSTEAD of dtype conversion.\n",
    "                     nrows=nrows)                                                 #Number of rows of file to read. Useful for reading pieces of large files.\n",
    "    \n",
    "    for column in JSON_COLUMNS:                         #for each column in json_coloumns                                                        \n",
    "        column_as_df = pd.json_normalize(df[column])    #Normalize semi-structured JSON data into a flat table\n",
    "        column_as_df.columns = [f\"{column}.{subcolumn}\" for subcolumn in column_as_df.columns]      #making key value pairs of columns and subcolumns\n",
    "        df = df.drop(column, axis=1).merge(column_as_df, right_index=True, left_index=True)         #drop the not joined columns\n",
    "\n",
    "    print(f\"Loaded {os.path.basename(csv_path)}. Shape: {df.shape}\")     #pruints the shape of the dataframe or table\n",
    "    return df                                                            #returns the dataframe"
   ]
  },
  {
   "cell_type": "code",
   "execution_count": null,
   "metadata": {
    "colab": {
     "base_uri": "https://localhost:8080/"
    },
    "id": "ArKov1Jjio5X",
    "outputId": "aab9e1b7-16fb-4312-e7f1-44103179a845"
   },
   "outputs": [
    {
     "name": "stdout",
     "output_type": "stream",
     "text": [
      "Loaded train.csv. Shape: (903653, 55)\n"
     ]
    }
   ],
   "source": [
    "%%time\n",
    "#flatten the train data set and storing in train_df variable\n",
    "train_df = load_df()\n",
    "\n",
    "#flatten the test data set and storing in test_df variable\n",
    "test_df = load_df(\"input/test.csv\")"
   ]
  },
  {
   "cell_type": "code",
   "execution_count": null,
   "metadata": {},
   "outputs": [],
   "source": [
    "# train_df.to_csv(\"input/train_df.csv\")\n",
    "# test_df.to_csv(\"input/test_df.csv\")"
   ]
  },
  {
   "cell_type": "code",
   "execution_count": null,
   "metadata": {
    "colab": {
     "base_uri": "https://localhost:8080/",
     "height": 307
    },
    "id": "yjBRTBoqio8W",
    "outputId": "101ad368-1e9a-425e-acd4-a47863c0234e"
   },
   "outputs": [],
   "source": [
    "train_df.head()"
   ]
  },
  {
   "cell_type": "markdown",
   "metadata": {
    "id": "IyPs6R8L-suq"
   },
   "source": [
    "Traget Variable or Class Variable"
   ]
  },
  {
   "cell_type": "code",
   "execution_count": null,
   "metadata": {
    "id": "4oDnm5fY-mOx"
   },
   "outputs": [],
   "source": [
    "#converting target variables to float data type\n",
    "train_df[\"totals.transactionRevenue\"] = train_df[\"totals.transactionRevenue\"].astype('float')\n",
    "\n",
    "#Since we are predicting the natural log of sum of all transactions of the user, \n",
    "#let us sum up the transaction revenue at user level and take a log and then do a scatter plot.\n",
    "gdf = train_df.groupby(\"fullVisitorId\")[\"totals.transactionRevenue\"].sum().reset_index()"
   ]
  },
  {
   "cell_type": "code",
   "execution_count": null,
   "metadata": {
    "colab": {
     "base_uri": "https://localhost:8080/",
     "height": 391
    },
    "id": "jb7svmWvio-4",
    "outputId": "9e202cb9-aeca-498b-8d93-ebf90375707d"
   },
   "outputs": [],
   "source": [
    "#scatterplot to understand each user vs transactions\n",
    "plt.figure(figsize=(8,6))\n",
    "plt.scatter(range(gdf.shape[0]), np.sort(np.log1p(gdf[\"totals.transactionRevenue\"].values)))\n",
    "plt.xlabel('index', fontsize=12)\n",
    "plt.ylabel('TransactionRevenue', fontsize=12)\n",
    "plt.show()"
   ]
  },
  {
   "cell_type": "markdown",
   "metadata": {},
   "source": [
    "### Observation\n",
    "The 80/20 rule has proven true for many businesses–only a small percentage of customers produce most of the revenue. \n",
    "As such, marketing teams are challenged to make appropriate investments in promotional strategies."
   ]
  },
  {
   "cell_type": "code",
   "execution_count": null,
   "metadata": {
    "id": "tH55BbF9AABY"
   },
   "outputs": [],
   "source": [
    "#to store Number of instances in train set with non-zero revenue\n",
    "nzi = pd.notnull(train_df[\"totals.transactionRevenue\"]).sum()\n",
    "\n",
    "#to store Number of unique customers with non-zero revenue\n",
    "nzr = (gdf[\"totals.transactionRevenue\"]>0).sum()"
   ]
  },
  {
   "cell_type": "code",
   "execution_count": null,
   "metadata": {
    "colab": {
     "base_uri": "https://localhost:8080/"
    },
    "id": "Vf0AH1f-ipBm",
    "outputId": "289b464f-718e-4ff7-df38-6dd1974c1c68"
   },
   "outputs": [],
   "source": [
    "#to check Number of instances in train set with non-zero revenue\n",
    "print(\"Number of instances in train set with non-zero revenue : \", nzi, \" and ratio is : \", nzi / train_df.shape[0])\n",
    "\n",
    "#to check Number of unique customers with non-zero revenue\n",
    "print(\"Number of unique customers with non-zero revenue : \", nzr, \"and the ratio is : \", nzr / gdf.shape[0])"
   ]
  },
  {
   "cell_type": "code",
   "execution_count": null,
   "metadata": {
    "colab": {
     "base_uri": "https://localhost:8080/"
    },
    "id": "lov1pk67ipE0",
    "outputId": "affbf7ff-8d32-4474-c257-82ab34ec3395"
   },
   "outputs": [],
   "source": [
    "#to check Number of unique visitors in train data set\n",
    "print(\"Number of unique visitors in train set : \",train_df.fullVisitorId.nunique(), \" out of rows : \",train_df.shape[0])\n",
    "\n",
    "#to check Number of unique visitors in test set\n",
    "print(\"Number of unique visitors in test set : \",test_df.fullVisitorId.nunique(), \" out of rows : \",test_df.shape[0])\n",
    "\n",
    "#to check Number of common visitors in train and test set\n",
    "print(\"Number of common visitors in train and test set : \",len(set(train_df.fullVisitorId.unique()).intersection(set(test_df.fullVisitorId.unique())) ))"
   ]
  },
  {
   "cell_type": "markdown",
   "metadata": {},
   "source": [
    "Constant values Columns"
   ]
  },
  {
   "cell_type": "code",
   "execution_count": null,
   "metadata": {
    "id": "K1OM2ajA_7nK"
   },
   "outputs": [],
   "source": [
    "#https://pandas.pydata.org/docs/reference/api/pandas.Series.nunique.html\n",
    "#Return number of unique elements in the object.\n",
    "#Excludes NA values by default\n",
    "#Looks like there are quite a few features with constant value in the train set. \n",
    "#Let us get the list of these features. \n",
    "#Let us not include the columns which has constant value and some null values.\n",
    "\n",
    "const_cols = [c for c in train_df.columns if train_df[c].nunique(dropna=False)==1 ]"
   ]
  },
  {
   "cell_type": "code",
   "execution_count": null,
   "metadata": {
    "colab": {
     "base_uri": "https://localhost:8080/"
    },
    "id": "rAe4dhf9ipHh",
    "outputId": "ae7b4dd7-e2cf-4363-a3c5-6b30bfeee568"
   },
   "outputs": [],
   "source": [
    "const_cols"
   ]
  },
  {
   "cell_type": "markdown",
   "metadata": {},
   "source": [
    "They are quite a few. Since the values are constant, we can just drop them from our feature list and save some memory and time in our modeling process"
   ]
  },
  {
   "cell_type": "markdown",
   "metadata": {},
   "source": [
    "## 1. Devices EDA "
   ]
  },
  {
   "cell_type": "code",
   "execution_count": null,
   "metadata": {
    "id": "rfyhPX9E_b9y"
   },
   "outputs": [],
   "source": [
    "#A plotly.graph_objects.Bar trace is a graph object in the figure's data list with any of the named arguments or attributes listed below.\n",
    "#The data visualized by the span of the bars is set in `y` if `orientation` is set th \"v\" (the default) and the labels are set in `x`. \n",
    "#By setting `orientation` to \"h\", the roles are interchanged.\n",
    "\n",
    "def horizontal_bar_chart(cnt_srs, color):\n",
    "    '''This function returns the horizonal bar charts'''\n",
    "    trace = go.Bar(y=cnt_srs.index[::-1],\n",
    "                   x=cnt_srs.values[::-1],\n",
    "                   showlegend=False,\n",
    "                   orientation = 'h',\n",
    "                   marker=dict(color=color,),)\n",
    "    return trace"
   ]
  },
  {
   "cell_type": "markdown",
   "metadata": {},
   "source": [
    "### 1.1 Device Browser"
   ]
  },
  {
   "cell_type": "code",
   "execution_count": null,
   "metadata": {
    "id": "lf1qs1Re_cAy"
   },
   "outputs": [],
   "source": [
    "#https://pandas.pydata.org/pandas-docs/version/0.21.0/generated/pandas.DataFrame.groupby.html\n",
    "#https://plotly.com/python/horizontal-bar-charts/#horizontal-bar-chart-with-gobar\n",
    "#Group series using mapper (dict or key function, apply given function to group, return result as series) or by a series of columns.\n",
    "#https://pandas.pydata.org/docs/reference/api/pandas.DataFrame.sort_values.html\n",
    "#https://pandas.pydata.org/pandas-docs/stable/reference/api/pandas.DataFrame.columns.html\n",
    "\n",
    "cnt_srs = train_df.groupby('device.browser')['totals.transactionRevenue'].agg(['size', 'count', 'mean'])   #Aggregate using callable, string, dict, or list of string/callables\n",
    "cnt_srs.columns = [\"count\", \"count of non-zero revenue\", \"mean\"] #The column labels of the DataFrame.\n",
    "cnt_srs = cnt_srs.sort_values(by=\"count\", ascending=False)"
   ]
  },
  {
   "cell_type": "code",
   "execution_count": null,
   "metadata": {},
   "outputs": [],
   "source": [
    "trace1 = horizontal_bar_chart(cnt_srs[\"count\"].head(10), 'rgba(50, 171, 96, 0.6)')\n",
    "trace2 = horizontal_bar_chart(cnt_srs[\"count of non-zero revenue\"].head(10), 'rgba(50, 171, 96, 0.6)')\n",
    "trace3 = horizontal_bar_chart(cnt_srs[\"mean\"].head(10), 'rgba(50, 171, 96, 0.6)')"
   ]
  },
  {
   "cell_type": "markdown",
   "metadata": {},
   "source": [
    "### 1.2 Device Category"
   ]
  },
  {
   "cell_type": "code",
   "execution_count": null,
   "metadata": {
    "id": "v-hBffrN_cDv"
   },
   "outputs": [],
   "source": [
    "#https://pandas.pydata.org/pandas-docs/version/0.21.0/generated/pandas.DataFrame.groupby.html\n",
    "#https://plotly.com/python/horizontal-bar-charts/#horizontal-bar-chart-with-gobar\n",
    "#Group series using mapper (dict or key function, apply given function to group, return result as series) or by a series of columns.\n",
    "#https://pandas.pydata.org/docs/reference/api/pandas.DataFrame.sort_values.html\n",
    "#https://pandas.pydata.org/pandas-docs/stable/reference/api/pandas.DataFrame.columns.html\n",
    "\n",
    "cnt_srs = train_df.groupby('device.deviceCategory')['totals.transactionRevenue'].agg(['size', 'count', 'mean'])\n",
    "cnt_srs.columns = [\"count\", \"count of non-zero revenue\", \"mean\"]\n",
    "cnt_srs = cnt_srs.sort_values(by=\"count\", ascending=False)"
   ]
  },
  {
   "cell_type": "code",
   "execution_count": null,
   "metadata": {},
   "outputs": [],
   "source": [
    "trace4 = horizontal_bar_chart(cnt_srs[\"count\"].head(10), 'rgba(71, 58, 131, 0.8)')\n",
    "trace5 = horizontal_bar_chart(cnt_srs[\"count of non-zero revenue\"].head(10), 'rgba(71, 58, 131, 0.8)')\n",
    "trace6 = horizontal_bar_chart(cnt_srs[\"mean\"].head(10), 'rgba(71, 58, 131, 0.8)')"
   ]
  },
  {
   "cell_type": "markdown",
   "metadata": {},
   "source": [
    "### 1.3 Operating system"
   ]
  },
  {
   "cell_type": "code",
   "execution_count": null,
   "metadata": {
    "id": "m5mQRjgm_cHD"
   },
   "outputs": [],
   "source": [
    "#https://pandas.pydata.org/pandas-docs/version/0.21.0/generated/pandas.DataFrame.groupby.html\n",
    "#https://plotly.com/python/horizontal-bar-charts/#horizontal-bar-chart-with-gobar\n",
    "#Group series using mapper (dict or key function, apply given function to group, return result as series) or by a series of columns.\n",
    "#https://pandas.pydata.org/docs/reference/api/pandas.DataFrame.sort_values.html\n",
    "#https://pandas.pydata.org/pandas-docs/stable/reference/api/pandas.DataFrame.columns.html\n",
    "\n",
    "cnt_srs = train_df.groupby('device.operatingSystem')['totals.transactionRevenue'].agg(['size', 'count', 'mean'])\n",
    "cnt_srs.columns = [\"count\", \"count of non-zero revenue\", \"mean\"]\n",
    "cnt_srs = cnt_srs.sort_values(by=\"count\", ascending=False)"
   ]
  },
  {
   "cell_type": "code",
   "execution_count": null,
   "metadata": {},
   "outputs": [],
   "source": [
    "trace7 = horizontal_bar_chart(cnt_srs[\"count\"].head(10), 'rgba(246, 78, 139, 0.6)')\n",
    "trace8 = horizontal_bar_chart(cnt_srs[\"count of non-zero revenue\"].head(10),'rgba(246, 78, 139, 0.6)')\n",
    "trace9 = horizontal_bar_chart(cnt_srs[\"mean\"].head(10),'rgba(246, 78, 139, 0.6)')"
   ]
  },
  {
   "cell_type": "markdown",
   "metadata": {},
   "source": [
    "### 1.4 Creating two subplots"
   ]
  },
  {
   "cell_type": "code",
   "execution_count": null,
   "metadata": {
    "id": "JKe4t99A_cJ0"
   },
   "outputs": [],
   "source": [
    "#https://plotly.com/python-api-reference/generated/plotly.subplots.make_subplots.html\n",
    "#Return an instance of plotly.graph_objects.Figure with predefined subplots configured in ‘layout’.\n",
    "\n",
    "fig = subplots.make_subplots(rows=3,\n",
    "                             cols=3,\n",
    "                             vertical_spacing=0.04, \n",
    "                             subplot_titles=[\"Device Browser - Count\", \n",
    "                                             \"Device Browser - Non-zero Revenue Count\", \n",
    "                                             \"Device Browser - Mean Revenue\",\n",
    "                                             \"Device Category - Count\",  \n",
    "                                             \"Device Category - Non-zero Revenue Count\", \n",
    "                                             \"Device Category - Mean Revenue\", \n",
    "                                             \"Device OS - Count\", \n",
    "                                             \"Device OS - Non-zero Revenue Count\", \n",
    "                                             \"Device OS - Mean Revenue\"])"
   ]
  },
  {
   "cell_type": "code",
   "execution_count": null,
   "metadata": {},
   "outputs": [],
   "source": [
    "#https://www.kite.com/python/docs/plotly.basedatatypes.BaseFigure.append_trace\n",
    "#Add a data traces to your figure bound to axes at the row, col index. \n",
    "#The row, col index is generated from figures created with plotly.tools.make_subplots and can be viewed with Figure.print_grid.\n",
    "\n",
    "fig.append_trace(trace1, 1, 1)\n",
    "fig.append_trace(trace2, 1, 2)\n",
    "fig.append_trace(trace3, 1, 3)\n",
    "fig.append_trace(trace4, 2, 1)\n",
    "fig.append_trace(trace5, 2, 2)\n",
    "fig.append_trace(trace6, 2, 3)\n",
    "fig.append_trace(trace7, 3, 1)\n",
    "fig.append_trace(trace8, 3, 2)\n",
    "fig.append_trace(trace9, 3, 3)\n",
    "\n",
    "fig['layout'].update(height=1200, width=1200, paper_bgcolor='rgb(233,233,233)', title=\"Device Plots\")\n",
    "py.iplot(fig, filename='device-plots')"
   ]
  },
  {
   "cell_type": "markdown",
   "metadata": {},
   "source": [
    "### Observations\n",
    "1.  Device browser distribution looks similar on both the count and count of non-zero revenue plots. But the average or mean Firefox is leading. And most of the users uses Chrome browser\n",
    "2.  On the device category between desktop, mobile and tablet, desktop seem to have higher percentage of non-zero revenue counts compared to mobile devices and tablet devices.\n",
    "3.  In device operating system, though the number of counts is more from windows, the number of counts where revenue is not zero is more for Macintosh. So the distribution not same in count and non-zero count.\n",
    "4.  Chrome OS also has higher percentage of non-zero revenue counts\n",
    "5.  On the mobile OS side, iOS has more percentage of non-zero revenue counts compared to Android.\n",
    "6.  On the mobile OS side, Android has more percentage of count comapared to ios."
   ]
  },
  {
   "cell_type": "markdown",
   "metadata": {},
   "source": [
    "## 2. Exploration of Date Data"
   ]
  },
  {
   "cell_type": "code",
   "execution_count": null,
   "metadata": {
    "id": "3HeHmSZ8AKPj"
   },
   "outputs": [],
   "source": [
    "#https://plotly.com/python/line-and-scatter/\n",
    "#https://plotly.com/python/marker-style/\n",
    "#With px.scatter, each data point is represented as a marker point, whose location is given by the x and y columns.\n",
    "\n",
    "import datetime\n",
    "\n",
    "def scatter_plot(cnt_srs, color):\n",
    "    '''This function returns the scatter, each data point is represented as a marker point, whose location is given by the x and y columns'''\n",
    "    trace = go.Scatter(x=cnt_srs.index[::-1],\n",
    "                       y=cnt_srs.values[::-1],\n",
    "                       showlegend=False,\n",
    "                       marker=dict(color=color,),)\n",
    "    return trace"
   ]
  },
  {
   "cell_type": "code",
   "execution_count": null,
   "metadata": {
    "id": "rVZnk9iSAKSy"
   },
   "outputs": [],
   "source": [
    "train_df['date'] = train_df['date'].apply(lambda x: datetime.date(int(str(x)[:4]), int(str(x)[4:6]), int(str(x)[6:])))"
   ]
  },
  {
   "cell_type": "code",
   "execution_count": null,
   "metadata": {},
   "outputs": [],
   "source": [
    "cnt_srs = train_df.groupby('date')['totals.transactionRevenue'].agg(['size', 'count'])\n",
    "cnt_srs.columns = [\"count\", \"count of non-zero revenue\"]\n",
    "cnt_srs = cnt_srs.sort_index()"
   ]
  },
  {
   "cell_type": "code",
   "execution_count": null,
   "metadata": {},
   "outputs": [],
   "source": [
    "trace1 = scatter_plot(cnt_srs[\"count\"], 'red')\n",
    "trace2 = scatter_plot(cnt_srs[\"count of non-zero revenue\"], 'blue')"
   ]
  },
  {
   "cell_type": "code",
   "execution_count": null,
   "metadata": {
    "colab": {
     "base_uri": "https://localhost:8080/",
     "height": 817
    },
    "id": "DCI6OgSslNkM",
    "outputId": "3289ed64-c906-41f3-b5ef-4468353f9593"
   },
   "outputs": [],
   "source": [
    "fig = subplots.make_subplots(rows=2, \n",
    "                             cols=1, \n",
    "                             vertical_spacing=0.08,\n",
    "                             subplot_titles=[\"Date - Count\", \"Date - Non-zero Revenue count\"])\n",
    "\n",
    "fig.append_trace(trace1, 1, 1)\n",
    "fig.append_trace(trace2, 2, 1)\n",
    "fig['layout'].update(height=800, width=800, paper_bgcolor='rgb(233,233,233)', title=\"Date Plots\")\n",
    "py.iplot(fig, filename='date-plots')"
   ]
  },
  {
   "cell_type": "markdown",
   "metadata": {},
   "source": [
    "### Observations\n",
    "1.  We have data from 1 Aug, 2016 to 31 July, 2017 in our training dataset\n",
    "2.  In Nov 2016, though there is an increase in the count of visitors, there is no increase in non-zero revenue counts during that time period (relative to the mean).\n",
    "3.  The 80/20 rule has proven true for many businesses–only a small percentage of customers produce most of the revenue. As such, marketing teams are challenged to make appropriate investments in promotional strategies."
   ]
  },
  {
   "cell_type": "markdown",
   "metadata": {},
   "source": [
    "## 3. Test Data Explore"
   ]
  },
  {
   "cell_type": "code",
   "execution_count": null,
   "metadata": {
    "id": "mYYRnnnWAe57"
   },
   "outputs": [],
   "source": [
    "test_df['date'] = test_df['date'].apply(lambda x: datetime.date(int(str(x)[:4]), int(str(x)[4:6]), int(str(x)[6:])))"
   ]
  },
  {
   "cell_type": "code",
   "execution_count": null,
   "metadata": {},
   "outputs": [],
   "source": [
    "cnt_srs = test_df.groupby('date')['fullVisitorId'].size()"
   ]
  },
  {
   "cell_type": "code",
   "execution_count": null,
   "metadata": {},
   "outputs": [],
   "source": [
    "#https://plotly.com/r/line-and-scatter/\n",
    "\n",
    "trace = scatter_plot(cnt_srs, 'red')"
   ]
  },
  {
   "cell_type": "code",
   "execution_count": null,
   "metadata": {
    "id": "f31-jR4qAe9L"
   },
   "outputs": [],
   "source": [
    "#https://plotly.com/python-api-reference/generated/plotly.graph_objects.Layout.html\n",
    "\n",
    "layout = go.Layout(height=400,\n",
    "                   width=800,\n",
    "                   paper_bgcolor='rgb(233,233,233)',\n",
    "                   title='Dates in Test set')"
   ]
  },
  {
   "cell_type": "code",
   "execution_count": null,
   "metadata": {
    "colab": {
     "base_uri": "https://localhost:8080/",
     "height": 417
    },
    "id": "ilEpel25ouA0",
    "outputId": "8c8ce119-d69d-4898-c7ec-d4d7964e9dc0",
    "scrolled": true
   },
   "outputs": [],
   "source": [
    "#https://plotly.com/python/creating-and-updating-figures/\n",
    "#Graph object constructors and update methods accept \"magic underscores\" (e.g. go.Figure(layout_title_text=\"The Title\") rather than dict(layout=dict(title=dict(text=\"The Title\")))) for more compact code, as described below.\n",
    "\n",
    "data = [trace]\n",
    "fig = go.Figure(data=data, layout=layout)\n",
    "py.iplot(fig, filename=\"ActivationDate\")"
   ]
  },
  {
   "cell_type": "markdown",
   "metadata": {},
   "source": [
    "### Onservations\n",
    "1.  In the test set, we have dates from 2 Aug, 2017 to 30 Apr, 2018. So there are no common dates between train and test set. \n",
    "2.  So it might be a good idea to do time based validation for this dataset."
   ]
  },
  {
   "cell_type": "markdown",
   "metadata": {},
   "source": [
    "## 4. Exploration of Geographic Information Data"
   ]
  },
  {
   "cell_type": "markdown",
   "metadata": {},
   "source": [
    "### 4.1 Continent Data"
   ]
  },
  {
   "cell_type": "code",
   "execution_count": null,
   "metadata": {
    "id": "bLLJ5GEKAvmV"
   },
   "outputs": [],
   "source": [
    "cnt_srs = train_df.groupby('geoNetwork.continent')['totals.transactionRevenue'].agg(['size', 'count', 'mean'])\n",
    "cnt_srs.columns = [\"count\", \"count of non-zero revenue\", \"mean\"]\n",
    "cnt_srs = cnt_srs.sort_values(by=\"count\", ascending=False)"
   ]
  },
  {
   "cell_type": "code",
   "execution_count": null,
   "metadata": {},
   "outputs": [],
   "source": [
    "trace1 = horizontal_bar_chart(cnt_srs[\"count\"].head(10), 'rgba(58, 71, 80, 0.6)')\n",
    "trace2 = horizontal_bar_chart(cnt_srs[\"count of non-zero revenue\"].head(10), 'rgba(58, 71, 80, 0.6)')\n",
    "trace3 = horizontal_bar_chart(cnt_srs[\"mean\"].head(10), 'rgba(58, 71, 80, 0.6)')"
   ]
  },
  {
   "cell_type": "markdown",
   "metadata": {},
   "source": [
    "### 4.2 Sub-continent"
   ]
  },
  {
   "cell_type": "code",
   "execution_count": null,
   "metadata": {
    "id": "q_OKuA-YAvpH"
   },
   "outputs": [],
   "source": [
    "cnt_srs = train_df.groupby('geoNetwork.subContinent')['totals.transactionRevenue'].agg(['size', 'count', 'mean'])\n",
    "cnt_srs.columns = [\"count\", \"count of non-zero revenue\", \"mean\"]\n",
    "cnt_srs = cnt_srs.sort_values(by=\"count\", ascending=False)"
   ]
  },
  {
   "cell_type": "code",
   "execution_count": null,
   "metadata": {},
   "outputs": [],
   "source": [
    "trace4 = horizontal_bar_chart(cnt_srs[\"count\"], 'orange')\n",
    "trace5 = horizontal_bar_chart(cnt_srs[\"count of non-zero revenue\"], 'orange')\n",
    "trace6 = horizontal_bar_chart(cnt_srs[\"mean\"], 'orange')"
   ]
  },
  {
   "cell_type": "markdown",
   "metadata": {},
   "source": [
    "### 4.3 Network domain"
   ]
  },
  {
   "cell_type": "code",
   "execution_count": null,
   "metadata": {
    "id": "LJYY3C8bAvsc"
   },
   "outputs": [],
   "source": [
    "cnt_srs = train_df.groupby('geoNetwork.networkDomain')['totals.transactionRevenue'].agg(['size', 'count', 'mean'])\n",
    "cnt_srs.columns = [\"count\", \"count of non-zero revenue\", \"mean\"]\n",
    "cnt_srs = cnt_srs.sort_values(by=\"count\", ascending=False)"
   ]
  },
  {
   "cell_type": "code",
   "execution_count": null,
   "metadata": {},
   "outputs": [],
   "source": [
    "trace7 = horizontal_bar_chart(cnt_srs[\"count\"].head(10), 'blue')\n",
    "trace8 = horizontal_bar_chart(cnt_srs[\"count of non-zero revenue\"].head(10), 'blue')\n",
    "trace9 = horizontal_bar_chart(cnt_srs[\"mean\"].head(10), 'blue')"
   ]
  },
  {
   "cell_type": "markdown",
   "metadata": {},
   "source": [
    "### 4.4 Creating two subplots"
   ]
  },
  {
   "cell_type": "code",
   "execution_count": null,
   "metadata": {
    "colab": {
     "base_uri": "https://localhost:8080/"
    },
    "id": "iuiNzIVJAvv9",
    "outputId": "e651bfe0-0e4c-4916-c3d6-cde8c2135586"
   },
   "outputs": [],
   "source": [
    "fig = tools.make_subplots(rows=3, \n",
    "                          cols=3, \n",
    "                          vertical_spacing=0.08, \n",
    "                          horizontal_spacing=0.15, \n",
    "                          subplot_titles=[\"Continent - Count\", \n",
    "                                          \"Continent - Non-zero Revenue Count\", \n",
    "                                          \"Continent - Mean Revenue\",\n",
    "                                          \"Sub Continent - Count\",  \n",
    "                                          \"Sub Continent - Non-zero Revenue Count\", \n",
    "                                          \"Sub Continent - Mean Revenue\",\n",
    "                                          \"Network Domain - Count\", \n",
    "                                          \"Network Domain - Non-zero Revenue Count\", \n",
    "                                          \"Network Domain - Mean Revenue\"])"
   ]
  },
  {
   "cell_type": "code",
   "execution_count": null,
   "metadata": {
    "colab": {
     "base_uri": "https://localhost:8080/",
     "height": 1000
    },
    "id": "LsMeBBM7ptUw",
    "outputId": "47b26b04-4c24-4112-a746-a8bef9f2bb51"
   },
   "outputs": [],
   "source": [
    "fig.append_trace(trace1, 1, 1)\n",
    "fig.append_trace(trace2, 1, 2)\n",
    "fig.append_trace(trace3, 1, 3)\n",
    "fig.append_trace(trace4, 2, 1)\n",
    "fig.append_trace(trace5, 2, 2)\n",
    "fig.append_trace(trace6, 2, 3)\n",
    "fig.append_trace(trace7, 3, 1)\n",
    "fig.append_trace(trace8, 3, 2)\n",
    "fig.append_trace(trace9, 3, 3)\n",
    "\n",
    "fig['layout'].update(height=1500, width=1200, paper_bgcolor='rgb(233,233,233)', title=\"Geography Plots\")\n",
    "py.iplot(fig, filename='geo-plots')"
   ]
  },
  {
   "cell_type": "markdown",
   "metadata": {},
   "source": [
    "### Observations\n",
    "1.  On the continent plot, we can see that America has both higher number of counts as well as highest number of counts where the revenue is non-zero\n",
    "2.  Though Asia and Europe has high number of counts, the number of non-zero revenue counts from these continents are comparatively low.\n",
    "3.  We can infer the first two points from the sub-continents plot too.\n",
    "4.  If the network domain is \"unknown.unknown\" rather than \"(not set)\", then the number of counts with non-zero revenue tend to be lower.\n",
    "5. On the subcontinent plot, we can see that North America has both higher number of counts as well as highest number of counts where the revenue is non-zero"
   ]
  },
  {
   "cell_type": "markdown",
   "metadata": {},
   "source": [
    "## 5. Exploration of Traffic Source Data"
   ]
  },
  {
   "cell_type": "markdown",
   "metadata": {},
   "source": [
    "### 5.1 Continent"
   ]
  },
  {
   "cell_type": "code",
   "execution_count": null,
   "metadata": {
    "id": "Rn6QPb3dBCmU"
   },
   "outputs": [],
   "source": [
    "cnt_srs = train_df.groupby('trafficSource.source')['totals.transactionRevenue'].agg(['size', 'count', 'mean'])\n",
    "cnt_srs.columns = [\"count\", \"count of non-zero revenue\", \"mean\"]\n",
    "cnt_srs = cnt_srs.sort_values(by=\"count\", ascending=False)"
   ]
  },
  {
   "cell_type": "code",
   "execution_count": null,
   "metadata": {},
   "outputs": [],
   "source": [
    "trace1 = horizontal_bar_chart(cnt_srs[\"count\"].head(10), 'green')\n",
    "trace2 = horizontal_bar_chart(cnt_srs[\"count of non-zero revenue\"].head(10), 'green')\n",
    "trace3 = horizontal_bar_chart(cnt_srs[\"mean\"].head(10), 'green')"
   ]
  },
  {
   "cell_type": "markdown",
   "metadata": {},
   "source": [
    "### 5.2 Sub-continent"
   ]
  },
  {
   "cell_type": "code",
   "execution_count": null,
   "metadata": {
    "id": "veh2Wg1MBCpQ"
   },
   "outputs": [],
   "source": [
    "cnt_srs = train_df.groupby('trafficSource.medium')['totals.transactionRevenue'].agg(['size', 'count', 'mean'])\n",
    "cnt_srs.columns = [\"count\", \"count of non-zero revenue\", \"mean\"]\n",
    "cnt_srs = cnt_srs.sort_values(by=\"count\", ascending=False)"
   ]
  },
  {
   "cell_type": "code",
   "execution_count": null,
   "metadata": {},
   "outputs": [],
   "source": [
    "trace4 = horizontal_bar_chart(cnt_srs[\"count\"], 'purple')\n",
    "trace5 = horizontal_bar_chart(cnt_srs[\"count of non-zero revenue\"], 'purple')\n",
    "trace6 = horizontal_bar_chart(cnt_srs[\"mean\"], 'purple')"
   ]
  },
  {
   "cell_type": "markdown",
   "metadata": {},
   "source": [
    "### 5.3 Creating two subplots"
   ]
  },
  {
   "cell_type": "code",
   "execution_count": null,
   "metadata": {
    "colab": {
     "base_uri": "https://localhost:8080/"
    },
    "id": "lZwkY-FlBCsb",
    "outputId": "58b99d1e-1ba4-4cb5-b77a-2b2eb6735552"
   },
   "outputs": [],
   "source": [
    "fig = tools.make_subplots(rows=2, \n",
    "                          cols=3, \n",
    "                          vertical_spacing=0.08, \n",
    "                          horizontal_spacing=0.15, \n",
    "                          subplot_titles=[\"Traffic Source - Count\", \n",
    "                                          \"Traffic Source - Non-zero Revenue Count\", \n",
    "                                          \"Traffic Source - Mean Revenue\",\n",
    "                                          \"Traffic Source Medium - Count\",  \n",
    "                                          \"Traffic Source Medium - Non-zero Revenue Count\", \n",
    "                                          \"Traffic Source Medium - Mean Revenue\"])"
   ]
  },
  {
   "cell_type": "code",
   "execution_count": null,
   "metadata": {
    "colab": {
     "base_uri": "https://localhost:8080/",
     "height": 1000
    },
    "id": "2R0xRy7rptXZ",
    "outputId": "1d88a631-26c8-4543-8b53-426f17f1767c"
   },
   "outputs": [],
   "source": [
    "fig.append_trace(trace1, 1, 1)\n",
    "fig.append_trace(trace2, 1, 2)\n",
    "fig.append_trace(trace3, 1, 3)\n",
    "fig.append_trace(trace4, 2, 1)\n",
    "fig.append_trace(trace5, 2, 2)\n",
    "fig.append_trace(trace6, 2, 3)\n",
    "\n",
    "fig['layout'].update(height=1000, width=1200, paper_bgcolor='rgb(233,233,233)', title=\"Traffic Source Plots\")\n",
    "py.iplot(fig, filename='traffic-source-plots')"
   ]
  },
  {
   "cell_type": "markdown",
   "metadata": {},
   "source": [
    "### Observations\n",
    "1.  In the traffic source plot, though Youtube has high number of counts in the dataset, the number of non-zero revenue counts are very less.\n",
    "2.  Google plex has a high ratio of non-zero revenue count to total count in the traffic source plot.\n",
    "3.  On the traffic source medium, \"referral\" has more number of non-zero revenue count compared to \"organic\" medium."
   ]
  },
  {
   "cell_type": "markdown",
   "metadata": {},
   "source": [
    "## 6. Exploration of Visitor Profile data"
   ]
  },
  {
   "cell_type": "markdown",
   "metadata": {},
   "source": [
    "### 6.1 Page views"
   ]
  },
  {
   "cell_type": "code",
   "execution_count": null,
   "metadata": {
    "id": "ltyDNwI7BRTM"
   },
   "outputs": [],
   "source": [
    "cnt_srs = train_df.groupby('totals.pageviews')['totals.transactionRevenue'].agg(['size', 'count', 'mean'])\n",
    "cnt_srs.columns = [\"count\", \"count of non-zero revenue\", \"mean\"]\n",
    "cnt_srs = cnt_srs.sort_values(by=\"count\", ascending=False)"
   ]
  },
  {
   "cell_type": "code",
   "execution_count": null,
   "metadata": {},
   "outputs": [],
   "source": [
    "trace1 = horizontal_bar_chart(cnt_srs[\"count\"].head(60), 'cyan')\n",
    "trace2 = horizontal_bar_chart(cnt_srs[\"count of non-zero revenue\"].head(60), 'cyan')\n",
    "trace5 = horizontal_bar_chart(cnt_srs[\"mean\"].head(60), 'cyan')"
   ]
  },
  {
   "cell_type": "markdown",
   "metadata": {},
   "source": [
    "### 6.2 Hits"
   ]
  },
  {
   "cell_type": "code",
   "execution_count": null,
   "metadata": {
    "id": "0GMyhimhBRZy"
   },
   "outputs": [],
   "source": [
    "cnt_srs = train_df.groupby('totals.hits')['totals.transactionRevenue'].agg(['size', 'count', 'mean'])\n",
    "cnt_srs.columns = [\"count\", \"count of non-zero revenue\", 'mean']\n",
    "cnt_srs = cnt_srs.sort_values(by=\"count\", ascending=False)"
   ]
  },
  {
   "cell_type": "code",
   "execution_count": null,
   "metadata": {},
   "outputs": [],
   "source": [
    "trace3 = horizontal_bar_chart(cnt_srs[\"count\"].head(60), 'black')\n",
    "trace4 = horizontal_bar_chart(cnt_srs[\"count of non-zero revenue\"].head(60), 'black')\n",
    "trace6 = horizontal_bar_chart(cnt_srs[\"mean\"].head(60), 'black')"
   ]
  },
  {
   "cell_type": "markdown",
   "metadata": {},
   "source": [
    "### 6.3 Creating two subplots"
   ]
  },
  {
   "cell_type": "code",
   "execution_count": null,
   "metadata": {
    "colab": {
     "base_uri": "https://localhost:8080/"
    },
    "id": "oq122rcOBRf3",
    "outputId": "f7e48ce0-eec2-4640-9b69-9c9b93bd6312"
   },
   "outputs": [],
   "source": [
    "fig = tools.make_subplots(rows=2, \n",
    "                          cols=3, \n",
    "                          vertical_spacing=0.08, \n",
    "                          horizontal_spacing=0.15, \n",
    "                          subplot_titles=[\"Total Pageviews - Count\", \n",
    "                                          \"Total Pageviews - Non-zero Revenue Count\", \n",
    "                                          \"Total Pageviews - Mean Revenue\",\n",
    "                                          \"Total Hits - Count\",  \n",
    "                                          \"Total Hits - Non-zero Revenue Count\", \n",
    "                                          \"Total Hits - Mean Revenue\"])"
   ]
  },
  {
   "cell_type": "code",
   "execution_count": null,
   "metadata": {
    "colab": {
     "base_uri": "https://localhost:8080/",
     "height": 1000
    },
    "id": "C9pEWK_0ptan",
    "outputId": "2a31e6f5-d9bc-414a-a3aa-3ba3db5db8ab"
   },
   "outputs": [],
   "source": [
    "fig.append_trace(trace1, 1, 1)\n",
    "fig.append_trace(trace2, 1, 2)\n",
    "fig.append_trace(trace5, 1, 3)\n",
    "fig.append_trace(trace3, 2, 1)\n",
    "fig.append_trace(trace4, 2, 2)\n",
    "fig.append_trace(trace6, 2, 3)\n",
    "\n",
    "fig['layout'].update(height=1200, width=900, paper_bgcolor='rgb(233,233,233)', title=\"Visitor Profile Plots\")\n",
    "py.iplot(fig, filename='visitor-profile-plots')"
   ]
  },
  {
   "cell_type": "markdown",
   "metadata": {},
   "source": [
    "### Observations\n",
    "1.  Both these variables look very predictive\n",
    "2.  Count plot shows decreasing nature i.e. we have a very high total count for less number of hits and page views per visitor 3.  transaction and the overall count decreases when the number of hits per visitor transaction increases.\n",
    "4.  On the other hand, we can clearly see that when the number of hits / pageviews per visitor transaction increases, we see that there is a high number of non-zero revenue counts."
   ]
  },
  {
   "cell_type": "code",
   "execution_count": null,
   "metadata": {
    "id": "DTzNo6vvqVim"
   },
   "outputs": [],
   "source": []
  }
 ],
 "metadata": {
  "colab": {
   "name": "Self Case Study 1.ipynb",
   "provenance": []
  },
  "kernelspec": {
   "display_name": "Python 3",
   "language": "python",
   "name": "python3"
  },
  "language_info": {
   "codemirror_mode": {
    "name": "ipython",
    "version": 3
   },
   "file_extension": ".py",
   "mimetype": "text/x-python",
   "name": "python",
   "nbconvert_exporter": "python",
   "pygments_lexer": "ipython3",
   "version": "3.8.8"
  }
 },
 "nbformat": 4,
 "nbformat_minor": 1
}
